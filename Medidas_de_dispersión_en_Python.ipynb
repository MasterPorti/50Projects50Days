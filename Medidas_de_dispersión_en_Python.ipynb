{
  "nbformat": 4,
  "nbformat_minor": 0,
  "metadata": {
    "colab": {
      "provenance": [],
      "mount_file_id": "1PWH8Pg4c9pG0PE4jLLIOuVvd78GsjI2t",
      "authorship_tag": "ABX9TyNoar19oH6Wz3mwPqQIlBoF",
      "include_colab_link": true
    },
    "kernelspec": {
      "name": "python3",
      "display_name": "Python 3"
    },
    "language_info": {
      "name": "python"
    }
  },
  "cells": [
    {
      "cell_type": "markdown",
      "metadata": {
        "id": "view-in-github",
        "colab_type": "text"
      },
      "source": [
        "<a href=\"https://colab.research.google.com/github/MasterPorti/50Projects50Days/blob/master/Medidas_de_dispersi%C3%B3n_en_Python.ipynb\" target=\"_parent\"><img src=\"https://colab.research.google.com/assets/colab-badge.svg\" alt=\"Open In Colab\"/></a>"
      ]
    },
    {
      "cell_type": "code",
      "execution_count": null,
      "metadata": {
        "id": "eUOIEjgLCJ9x"
      },
      "outputs": [],
      "source": [
        "import pandas as pd\n",
        "import matplotlib.pyplot as plt\n",
        "import seaborn as sns\n"
      ]
    },
    {
      "cell_type": "code",
      "source": [
        "df = pd.read_csv('/content/drive/MyDrive/Platzi/Curso de Matemáticas para Data Science: Estadística Descriptiva/cars.csv')\n",
        "df"
      ],
      "metadata": {
        "colab": {
          "base_uri": "https://localhost:8080/",
          "height": 488
        },
        "id": "bwkzye36CVh5",
        "outputId": "2083cbda-87ee-41db-a689-7a587fb3570b"
      },
      "execution_count": null,
      "outputs": [
        {
          "output_type": "execute_result",
          "data": {
            "text/plain": [
              "      manufacturer_name  model_name transmission   color  odometer_value  \\\n",
              "0                Subaru     Outback    automatic  silver          190000   \n",
              "1                Subaru     Outback    automatic    blue          290000   \n",
              "2                Subaru    Forester    automatic     red          402000   \n",
              "3                Subaru     Impreza   mechanical    blue           10000   \n",
              "4                Subaru      Legacy    automatic   black          280000   \n",
              "...                 ...         ...          ...     ...             ...   \n",
              "38526          Chrysler         300    automatic  silver          290000   \n",
              "38527          Chrysler  PT Cruiser   mechanical    blue          321000   \n",
              "38528          Chrysler         300    automatic    blue          777957   \n",
              "38529          Chrysler  PT Cruiser   mechanical   black           20000   \n",
              "38530          Chrysler     Voyager    automatic  silver          297729   \n",
              "\n",
              "       year_produced engine_fuel  engine_has_gas engine_type  engine_capacity  \\\n",
              "0               2010    gasoline           False    gasoline              2.5   \n",
              "1               2002    gasoline           False    gasoline              3.0   \n",
              "2               2001    gasoline           False    gasoline              2.5   \n",
              "3               1999    gasoline           False    gasoline              3.0   \n",
              "4               2001    gasoline           False    gasoline              2.5   \n",
              "...              ...         ...             ...         ...              ...   \n",
              "38526           2000    gasoline           False    gasoline              3.5   \n",
              "38527           2004      diesel           False      diesel              2.2   \n",
              "38528           2000    gasoline           False    gasoline              3.5   \n",
              "38529           2001    gasoline           False    gasoline              2.0   \n",
              "38530           2000    gasoline           False    gasoline              2.4   \n",
              "\n",
              "       ... feature_1  feature_2 feature_3 feature_4  feature_5  feature_6  \\\n",
              "0      ...      True       True      True     False       True      False   \n",
              "1      ...      True      False     False      True       True      False   \n",
              "2      ...      True      False     False     False      False      False   \n",
              "3      ...     False      False     False     False      False      False   \n",
              "4      ...      True      False      True      True      False      False   \n",
              "...    ...       ...        ...       ...       ...        ...        ...   \n",
              "38526  ...      True      False     False      True       True      False   \n",
              "38527  ...      True      False     False      True       True      False   \n",
              "38528  ...      True      False     False      True       True      False   \n",
              "38529  ...      True      False     False     False      False      False   \n",
              "38530  ...     False      False     False     False      False      False   \n",
              "\n",
              "      feature_7  feature_8  feature_9  duration_listed  \n",
              "0          True       True       True               16  \n",
              "1         False      False       True               83  \n",
              "2         False       True       True              151  \n",
              "3         False      False      False               86  \n",
              "4         False      False       True                7  \n",
              "...         ...        ...        ...              ...  \n",
              "38526     False       True       True              301  \n",
              "38527     False       True       True              317  \n",
              "38528     False       True       True              369  \n",
              "38529     False      False       True              490  \n",
              "38530     False      False       True              632  \n",
              "\n",
              "[38531 rows x 30 columns]"
            ],
            "text/html": [
              "\n",
              "\n",
              "  <div id=\"df-b7dc59c0-6ed4-4dec-bce6-1d2f819ed270\">\n",
              "    <div class=\"colab-df-container\">\n",
              "      <div>\n",
              "<style scoped>\n",
              "    .dataframe tbody tr th:only-of-type {\n",
              "        vertical-align: middle;\n",
              "    }\n",
              "\n",
              "    .dataframe tbody tr th {\n",
              "        vertical-align: top;\n",
              "    }\n",
              "\n",
              "    .dataframe thead th {\n",
              "        text-align: right;\n",
              "    }\n",
              "</style>\n",
              "<table border=\"1\" class=\"dataframe\">\n",
              "  <thead>\n",
              "    <tr style=\"text-align: right;\">\n",
              "      <th></th>\n",
              "      <th>manufacturer_name</th>\n",
              "      <th>model_name</th>\n",
              "      <th>transmission</th>\n",
              "      <th>color</th>\n",
              "      <th>odometer_value</th>\n",
              "      <th>year_produced</th>\n",
              "      <th>engine_fuel</th>\n",
              "      <th>engine_has_gas</th>\n",
              "      <th>engine_type</th>\n",
              "      <th>engine_capacity</th>\n",
              "      <th>...</th>\n",
              "      <th>feature_1</th>\n",
              "      <th>feature_2</th>\n",
              "      <th>feature_3</th>\n",
              "      <th>feature_4</th>\n",
              "      <th>feature_5</th>\n",
              "      <th>feature_6</th>\n",
              "      <th>feature_7</th>\n",
              "      <th>feature_8</th>\n",
              "      <th>feature_9</th>\n",
              "      <th>duration_listed</th>\n",
              "    </tr>\n",
              "  </thead>\n",
              "  <tbody>\n",
              "    <tr>\n",
              "      <th>0</th>\n",
              "      <td>Subaru</td>\n",
              "      <td>Outback</td>\n",
              "      <td>automatic</td>\n",
              "      <td>silver</td>\n",
              "      <td>190000</td>\n",
              "      <td>2010</td>\n",
              "      <td>gasoline</td>\n",
              "      <td>False</td>\n",
              "      <td>gasoline</td>\n",
              "      <td>2.5</td>\n",
              "      <td>...</td>\n",
              "      <td>True</td>\n",
              "      <td>True</td>\n",
              "      <td>True</td>\n",
              "      <td>False</td>\n",
              "      <td>True</td>\n",
              "      <td>False</td>\n",
              "      <td>True</td>\n",
              "      <td>True</td>\n",
              "      <td>True</td>\n",
              "      <td>16</td>\n",
              "    </tr>\n",
              "    <tr>\n",
              "      <th>1</th>\n",
              "      <td>Subaru</td>\n",
              "      <td>Outback</td>\n",
              "      <td>automatic</td>\n",
              "      <td>blue</td>\n",
              "      <td>290000</td>\n",
              "      <td>2002</td>\n",
              "      <td>gasoline</td>\n",
              "      <td>False</td>\n",
              "      <td>gasoline</td>\n",
              "      <td>3.0</td>\n",
              "      <td>...</td>\n",
              "      <td>True</td>\n",
              "      <td>False</td>\n",
              "      <td>False</td>\n",
              "      <td>True</td>\n",
              "      <td>True</td>\n",
              "      <td>False</td>\n",
              "      <td>False</td>\n",
              "      <td>False</td>\n",
              "      <td>True</td>\n",
              "      <td>83</td>\n",
              "    </tr>\n",
              "    <tr>\n",
              "      <th>2</th>\n",
              "      <td>Subaru</td>\n",
              "      <td>Forester</td>\n",
              "      <td>automatic</td>\n",
              "      <td>red</td>\n",
              "      <td>402000</td>\n",
              "      <td>2001</td>\n",
              "      <td>gasoline</td>\n",
              "      <td>False</td>\n",
              "      <td>gasoline</td>\n",
              "      <td>2.5</td>\n",
              "      <td>...</td>\n",
              "      <td>True</td>\n",
              "      <td>False</td>\n",
              "      <td>False</td>\n",
              "      <td>False</td>\n",
              "      <td>False</td>\n",
              "      <td>False</td>\n",
              "      <td>False</td>\n",
              "      <td>True</td>\n",
              "      <td>True</td>\n",
              "      <td>151</td>\n",
              "    </tr>\n",
              "    <tr>\n",
              "      <th>3</th>\n",
              "      <td>Subaru</td>\n",
              "      <td>Impreza</td>\n",
              "      <td>mechanical</td>\n",
              "      <td>blue</td>\n",
              "      <td>10000</td>\n",
              "      <td>1999</td>\n",
              "      <td>gasoline</td>\n",
              "      <td>False</td>\n",
              "      <td>gasoline</td>\n",
              "      <td>3.0</td>\n",
              "      <td>...</td>\n",
              "      <td>False</td>\n",
              "      <td>False</td>\n",
              "      <td>False</td>\n",
              "      <td>False</td>\n",
              "      <td>False</td>\n",
              "      <td>False</td>\n",
              "      <td>False</td>\n",
              "      <td>False</td>\n",
              "      <td>False</td>\n",
              "      <td>86</td>\n",
              "    </tr>\n",
              "    <tr>\n",
              "      <th>4</th>\n",
              "      <td>Subaru</td>\n",
              "      <td>Legacy</td>\n",
              "      <td>automatic</td>\n",
              "      <td>black</td>\n",
              "      <td>280000</td>\n",
              "      <td>2001</td>\n",
              "      <td>gasoline</td>\n",
              "      <td>False</td>\n",
              "      <td>gasoline</td>\n",
              "      <td>2.5</td>\n",
              "      <td>...</td>\n",
              "      <td>True</td>\n",
              "      <td>False</td>\n",
              "      <td>True</td>\n",
              "      <td>True</td>\n",
              "      <td>False</td>\n",
              "      <td>False</td>\n",
              "      <td>False</td>\n",
              "      <td>False</td>\n",
              "      <td>True</td>\n",
              "      <td>7</td>\n",
              "    </tr>\n",
              "    <tr>\n",
              "      <th>...</th>\n",
              "      <td>...</td>\n",
              "      <td>...</td>\n",
              "      <td>...</td>\n",
              "      <td>...</td>\n",
              "      <td>...</td>\n",
              "      <td>...</td>\n",
              "      <td>...</td>\n",
              "      <td>...</td>\n",
              "      <td>...</td>\n",
              "      <td>...</td>\n",
              "      <td>...</td>\n",
              "      <td>...</td>\n",
              "      <td>...</td>\n",
              "      <td>...</td>\n",
              "      <td>...</td>\n",
              "      <td>...</td>\n",
              "      <td>...</td>\n",
              "      <td>...</td>\n",
              "      <td>...</td>\n",
              "      <td>...</td>\n",
              "      <td>...</td>\n",
              "    </tr>\n",
              "    <tr>\n",
              "      <th>38526</th>\n",
              "      <td>Chrysler</td>\n",
              "      <td>300</td>\n",
              "      <td>automatic</td>\n",
              "      <td>silver</td>\n",
              "      <td>290000</td>\n",
              "      <td>2000</td>\n",
              "      <td>gasoline</td>\n",
              "      <td>False</td>\n",
              "      <td>gasoline</td>\n",
              "      <td>3.5</td>\n",
              "      <td>...</td>\n",
              "      <td>True</td>\n",
              "      <td>False</td>\n",
              "      <td>False</td>\n",
              "      <td>True</td>\n",
              "      <td>True</td>\n",
              "      <td>False</td>\n",
              "      <td>False</td>\n",
              "      <td>True</td>\n",
              "      <td>True</td>\n",
              "      <td>301</td>\n",
              "    </tr>\n",
              "    <tr>\n",
              "      <th>38527</th>\n",
              "      <td>Chrysler</td>\n",
              "      <td>PT Cruiser</td>\n",
              "      <td>mechanical</td>\n",
              "      <td>blue</td>\n",
              "      <td>321000</td>\n",
              "      <td>2004</td>\n",
              "      <td>diesel</td>\n",
              "      <td>False</td>\n",
              "      <td>diesel</td>\n",
              "      <td>2.2</td>\n",
              "      <td>...</td>\n",
              "      <td>True</td>\n",
              "      <td>False</td>\n",
              "      <td>False</td>\n",
              "      <td>True</td>\n",
              "      <td>True</td>\n",
              "      <td>False</td>\n",
              "      <td>False</td>\n",
              "      <td>True</td>\n",
              "      <td>True</td>\n",
              "      <td>317</td>\n",
              "    </tr>\n",
              "    <tr>\n",
              "      <th>38528</th>\n",
              "      <td>Chrysler</td>\n",
              "      <td>300</td>\n",
              "      <td>automatic</td>\n",
              "      <td>blue</td>\n",
              "      <td>777957</td>\n",
              "      <td>2000</td>\n",
              "      <td>gasoline</td>\n",
              "      <td>False</td>\n",
              "      <td>gasoline</td>\n",
              "      <td>3.5</td>\n",
              "      <td>...</td>\n",
              "      <td>True</td>\n",
              "      <td>False</td>\n",
              "      <td>False</td>\n",
              "      <td>True</td>\n",
              "      <td>True</td>\n",
              "      <td>False</td>\n",
              "      <td>False</td>\n",
              "      <td>True</td>\n",
              "      <td>True</td>\n",
              "      <td>369</td>\n",
              "    </tr>\n",
              "    <tr>\n",
              "      <th>38529</th>\n",
              "      <td>Chrysler</td>\n",
              "      <td>PT Cruiser</td>\n",
              "      <td>mechanical</td>\n",
              "      <td>black</td>\n",
              "      <td>20000</td>\n",
              "      <td>2001</td>\n",
              "      <td>gasoline</td>\n",
              "      <td>False</td>\n",
              "      <td>gasoline</td>\n",
              "      <td>2.0</td>\n",
              "      <td>...</td>\n",
              "      <td>True</td>\n",
              "      <td>False</td>\n",
              "      <td>False</td>\n",
              "      <td>False</td>\n",
              "      <td>False</td>\n",
              "      <td>False</td>\n",
              "      <td>False</td>\n",
              "      <td>False</td>\n",
              "      <td>True</td>\n",
              "      <td>490</td>\n",
              "    </tr>\n",
              "    <tr>\n",
              "      <th>38530</th>\n",
              "      <td>Chrysler</td>\n",
              "      <td>Voyager</td>\n",
              "      <td>automatic</td>\n",
              "      <td>silver</td>\n",
              "      <td>297729</td>\n",
              "      <td>2000</td>\n",
              "      <td>gasoline</td>\n",
              "      <td>False</td>\n",
              "      <td>gasoline</td>\n",
              "      <td>2.4</td>\n",
              "      <td>...</td>\n",
              "      <td>False</td>\n",
              "      <td>False</td>\n",
              "      <td>False</td>\n",
              "      <td>False</td>\n",
              "      <td>False</td>\n",
              "      <td>False</td>\n",
              "      <td>False</td>\n",
              "      <td>False</td>\n",
              "      <td>True</td>\n",
              "      <td>632</td>\n",
              "    </tr>\n",
              "  </tbody>\n",
              "</table>\n",
              "<p>38531 rows × 30 columns</p>\n",
              "</div>\n",
              "      <button class=\"colab-df-convert\" onclick=\"convertToInteractive('df-b7dc59c0-6ed4-4dec-bce6-1d2f819ed270')\"\n",
              "              title=\"Convert this dataframe to an interactive table.\"\n",
              "              style=\"display:none;\">\n",
              "\n",
              "  <svg xmlns=\"http://www.w3.org/2000/svg\" height=\"24px\"viewBox=\"0 0 24 24\"\n",
              "       width=\"24px\">\n",
              "    <path d=\"M0 0h24v24H0V0z\" fill=\"none\"/>\n",
              "    <path d=\"M18.56 5.44l.94 2.06.94-2.06 2.06-.94-2.06-.94-.94-2.06-.94 2.06-2.06.94zm-11 1L8.5 8.5l.94-2.06 2.06-.94-2.06-.94L8.5 2.5l-.94 2.06-2.06.94zm10 10l.94 2.06.94-2.06 2.06-.94-2.06-.94-.94-2.06-.94 2.06-2.06.94z\"/><path d=\"M17.41 7.96l-1.37-1.37c-.4-.4-.92-.59-1.43-.59-.52 0-1.04.2-1.43.59L10.3 9.45l-7.72 7.72c-.78.78-.78 2.05 0 2.83L4 21.41c.39.39.9.59 1.41.59.51 0 1.02-.2 1.41-.59l7.78-7.78 2.81-2.81c.8-.78.8-2.07 0-2.86zM5.41 20L4 18.59l7.72-7.72 1.47 1.35L5.41 20z\"/>\n",
              "  </svg>\n",
              "      </button>\n",
              "\n",
              "\n",
              "\n",
              "    <div id=\"df-c8ecb22f-4d6c-474d-ab76-98c06d53a350\">\n",
              "      <button class=\"colab-df-quickchart\" onclick=\"quickchart('df-c8ecb22f-4d6c-474d-ab76-98c06d53a350')\"\n",
              "              title=\"Suggest charts.\"\n",
              "              style=\"display:none;\">\n",
              "\n",
              "<svg xmlns=\"http://www.w3.org/2000/svg\" height=\"24px\"viewBox=\"0 0 24 24\"\n",
              "     width=\"24px\">\n",
              "    <g>\n",
              "        <path d=\"M19 3H5c-1.1 0-2 .9-2 2v14c0 1.1.9 2 2 2h14c1.1 0 2-.9 2-2V5c0-1.1-.9-2-2-2zM9 17H7v-7h2v7zm4 0h-2V7h2v10zm4 0h-2v-4h2v4z\"/>\n",
              "    </g>\n",
              "</svg>\n",
              "      </button>\n",
              "    </div>\n",
              "\n",
              "<style>\n",
              "  .colab-df-quickchart {\n",
              "    background-color: #E8F0FE;\n",
              "    border: none;\n",
              "    border-radius: 50%;\n",
              "    cursor: pointer;\n",
              "    display: none;\n",
              "    fill: #1967D2;\n",
              "    height: 32px;\n",
              "    padding: 0 0 0 0;\n",
              "    width: 32px;\n",
              "  }\n",
              "\n",
              "  .colab-df-quickchart:hover {\n",
              "    background-color: #E2EBFA;\n",
              "    box-shadow: 0px 1px 2px rgba(60, 64, 67, 0.3), 0px 1px 3px 1px rgba(60, 64, 67, 0.15);\n",
              "    fill: #174EA6;\n",
              "  }\n",
              "\n",
              "  [theme=dark] .colab-df-quickchart {\n",
              "    background-color: #3B4455;\n",
              "    fill: #D2E3FC;\n",
              "  }\n",
              "\n",
              "  [theme=dark] .colab-df-quickchart:hover {\n",
              "    background-color: #434B5C;\n",
              "    box-shadow: 0px 1px 3px 1px rgba(0, 0, 0, 0.15);\n",
              "    filter: drop-shadow(0px 1px 2px rgba(0, 0, 0, 0.3));\n",
              "    fill: #FFFFFF;\n",
              "  }\n",
              "</style>\n",
              "\n",
              "    <script>\n",
              "      async function quickchart(key) {\n",
              "        const containerElement = document.querySelector('#' + key);\n",
              "        const charts = await google.colab.kernel.invokeFunction(\n",
              "            'suggestCharts', [key], {});\n",
              "      }\n",
              "    </script>\n",
              "\n",
              "      <script>\n",
              "\n",
              "function displayQuickchartButton(domScope) {\n",
              "  let quickchartButtonEl =\n",
              "    domScope.querySelector('#df-c8ecb22f-4d6c-474d-ab76-98c06d53a350 button.colab-df-quickchart');\n",
              "  quickchartButtonEl.style.display =\n",
              "    google.colab.kernel.accessAllowed ? 'block' : 'none';\n",
              "}\n",
              "\n",
              "        displayQuickchartButton(document);\n",
              "      </script>\n",
              "      <style>\n",
              "    .colab-df-container {\n",
              "      display:flex;\n",
              "      flex-wrap:wrap;\n",
              "      gap: 12px;\n",
              "    }\n",
              "\n",
              "    .colab-df-convert {\n",
              "      background-color: #E8F0FE;\n",
              "      border: none;\n",
              "      border-radius: 50%;\n",
              "      cursor: pointer;\n",
              "      display: none;\n",
              "      fill: #1967D2;\n",
              "      height: 32px;\n",
              "      padding: 0 0 0 0;\n",
              "      width: 32px;\n",
              "    }\n",
              "\n",
              "    .colab-df-convert:hover {\n",
              "      background-color: #E2EBFA;\n",
              "      box-shadow: 0px 1px 2px rgba(60, 64, 67, 0.3), 0px 1px 3px 1px rgba(60, 64, 67, 0.15);\n",
              "      fill: #174EA6;\n",
              "    }\n",
              "\n",
              "    [theme=dark] .colab-df-convert {\n",
              "      background-color: #3B4455;\n",
              "      fill: #D2E3FC;\n",
              "    }\n",
              "\n",
              "    [theme=dark] .colab-df-convert:hover {\n",
              "      background-color: #434B5C;\n",
              "      box-shadow: 0px 1px 3px 1px rgba(0, 0, 0, 0.15);\n",
              "      filter: drop-shadow(0px 1px 2px rgba(0, 0, 0, 0.3));\n",
              "      fill: #FFFFFF;\n",
              "    }\n",
              "  </style>\n",
              "\n",
              "      <script>\n",
              "        const buttonEl =\n",
              "          document.querySelector('#df-b7dc59c0-6ed4-4dec-bce6-1d2f819ed270 button.colab-df-convert');\n",
              "        buttonEl.style.display =\n",
              "          google.colab.kernel.accessAllowed ? 'block' : 'none';\n",
              "\n",
              "        async function convertToInteractive(key) {\n",
              "          const element = document.querySelector('#df-b7dc59c0-6ed4-4dec-bce6-1d2f819ed270');\n",
              "          const dataTable =\n",
              "            await google.colab.kernel.invokeFunction('convertToInteractive',\n",
              "                                                     [key], {});\n",
              "          if (!dataTable) return;\n",
              "\n",
              "          const docLinkHtml = 'Like what you see? Visit the ' +\n",
              "            '<a target=\"_blank\" href=https://colab.research.google.com/notebooks/data_table.ipynb>data table notebook</a>'\n",
              "            + ' to learn more about interactive tables.';\n",
              "          element.innerHTML = '';\n",
              "          dataTable['output_type'] = 'display_data';\n",
              "          await google.colab.output.renderOutput(dataTable, element);\n",
              "          const docLink = document.createElement('div');\n",
              "          docLink.innerHTML = docLinkHtml;\n",
              "          element.appendChild(docLink);\n",
              "        }\n",
              "      </script>\n",
              "    </div>\n",
              "  </div>\n"
            ]
          },
          "metadata": {},
          "execution_count": 28
        }
      ]
    },
    {
      "cell_type": "markdown",
      "source": [
        "##Desviacion estandar"
      ],
      "metadata": {
        "id": "gqHo_6CICjGG"
      }
    },
    {
      "cell_type": "code",
      "source": [
        "df['price_usd'].std()"
      ],
      "metadata": {
        "colab": {
          "base_uri": "https://localhost:8080/"
        },
        "id": "0ddMYE8yCg0J",
        "outputId": "c2e486df-d285-410d-ca31-3f25ec508221"
      },
      "execution_count": null,
      "outputs": [
        {
          "output_type": "execute_result",
          "data": {
            "text/plain": [
              "6428.1520182029035"
            ]
          },
          "metadata": {},
          "execution_count": 4
        }
      ]
    },
    {
      "cell_type": "markdown",
      "source": [
        "##Rango"
      ],
      "metadata": {
        "id": "fS7glsvRCrek"
      }
    },
    {
      "cell_type": "code",
      "source": [
        "df['price_usd'].max() - df['price_usd'].min()"
      ],
      "metadata": {
        "colab": {
          "base_uri": "https://localhost:8080/"
        },
        "id": "c34svxI0Csov",
        "outputId": "7af6cfa0-bc27-4557-e2aa-006760de01c8"
      },
      "execution_count": null,
      "outputs": [
        {
          "output_type": "execute_result",
          "data": {
            "text/plain": [
              "49999.0"
            ]
          },
          "metadata": {},
          "execution_count": 6
        }
      ]
    },
    {
      "cell_type": "markdown",
      "source": [
        "##Cuartiles"
      ],
      "metadata": {
        "id": "7Rsl4Nx0C2eq"
      }
    },
    {
      "cell_type": "code",
      "source": [
        "df['price_usd'].median()"
      ],
      "metadata": {
        "colab": {
          "base_uri": "https://localhost:8080/"
        },
        "id": "vaIJTgO5Cz-j",
        "outputId": "4b3f2df2-b662-45af-9805-265b794aca31"
      },
      "execution_count": null,
      "outputs": [
        {
          "output_type": "execute_result",
          "data": {
            "text/plain": [
              "4800.0"
            ]
          },
          "metadata": {},
          "execution_count": 7
        }
      ]
    },
    {
      "cell_type": "code",
      "source": [
        "df['price_usd'].quantile(q=0.25)"
      ],
      "metadata": {
        "colab": {
          "base_uri": "https://localhost:8080/"
        },
        "id": "___XSE0bC8to",
        "outputId": "b1191719-8cf1-4435-d6ae-9eee2c9521bb"
      },
      "execution_count": null,
      "outputs": [
        {
          "output_type": "execute_result",
          "data": {
            "text/plain": [
              "2100.0"
            ]
          },
          "metadata": {},
          "execution_count": 29
        }
      ]
    },
    {
      "cell_type": "code",
      "source": [
        "df['price_usd'].quantile(q=0.50)"
      ],
      "metadata": {
        "colab": {
          "base_uri": "https://localhost:8080/"
        },
        "id": "EXck01fHDCkE",
        "outputId": "7eaa9e9a-44e6-46c6-e20c-e7db20222329"
      },
      "execution_count": null,
      "outputs": [
        {
          "output_type": "execute_result",
          "data": {
            "text/plain": [
              "4800.0"
            ]
          },
          "metadata": {},
          "execution_count": 9
        }
      ]
    },
    {
      "cell_type": "code",
      "source": [
        "df['price_usd'].quantile(q=0.75)"
      ],
      "metadata": {
        "colab": {
          "base_uri": "https://localhost:8080/"
        },
        "id": "_HBR3F23DFHT",
        "outputId": "5fced6a6-1609-4719-8ca7-222097ef7c69"
      },
      "execution_count": null,
      "outputs": [
        {
          "output_type": "execute_result",
          "data": {
            "text/plain": [
              "8990.0"
            ]
          },
          "metadata": {},
          "execution_count": 12
        }
      ]
    },
    {
      "cell_type": "code",
      "source": [
        "df['price_usd'].max()"
      ],
      "metadata": {
        "colab": {
          "base_uri": "https://localhost:8080/"
        },
        "id": "4VlOdioJDMeC",
        "outputId": "4d52514e-a84c-4e48-ad87-ba923e9559e9"
      },
      "execution_count": null,
      "outputs": [
        {
          "output_type": "execute_result",
          "data": {
            "text/plain": [
              "50000.0"
            ]
          },
          "metadata": {},
          "execution_count": 13
        }
      ]
    },
    {
      "cell_type": "markdown",
      "source": [
        "##Rango para detectar outliers"
      ],
      "metadata": {
        "id": "Ds-p-5SYDggX"
      }
    },
    {
      "cell_type": "markdown",
      "source": [
        "![image_2023-07-21_184550492.png](data:image/png;base64,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)"
      ],
      "metadata": {
        "id": "nON_XUkuD1Dz"
      }
    },
    {
      "cell_type": "code",
      "source": [
        "df['price_usd'].quantile(q=0.75) - df['price_usd'].quantile(q=0.25)"
      ],
      "metadata": {
        "colab": {
          "base_uri": "https://localhost:8080/"
        },
        "id": "jgkGVGFuELYo",
        "outputId": "932ecdd1-3d15-4287-d0e0-305b87208162"
      },
      "execution_count": null,
      "outputs": [
        {
          "output_type": "execute_result",
          "data": {
            "text/plain": [
              "6890.0"
            ]
          },
          "metadata": {},
          "execution_count": 16
        }
      ]
    },
    {
      "cell_type": "code",
      "source": [
        "df['price_usd'].quantile(q=0.25) -( 1.5 * (df['price_usd'].quantile(q=0.75) - df['price_usd'].quantile(q=0.25)) )"
      ],
      "metadata": {
        "colab": {
          "base_uri": "https://localhost:8080/"
        },
        "id": "mPI5nsh6DuCu",
        "outputId": "c79f35b8-a2ab-4a8b-bfc0-808b9f9e09cb"
      },
      "execution_count": null,
      "outputs": [
        {
          "output_type": "execute_result",
          "data": {
            "text/plain": [
              "-8235.0"
            ]
          },
          "metadata": {},
          "execution_count": 15
        }
      ]
    },
    {
      "cell_type": "code",
      "source": [
        "sns.boxplot(x=df[\"price_usd\"])"
      ],
      "metadata": {
        "colab": {
          "base_uri": "https://localhost:8080/",
          "height": 467
        },
        "id": "SVR05DwRDW7j",
        "outputId": "ea7c0a04-7b2e-4bdf-bb53-e4c9d53ddf06"
      },
      "execution_count": null,
      "outputs": [
        {
          "output_type": "execute_result",
          "data": {
            "text/plain": [
              "<Axes: xlabel='price_usd'>"
            ]
          },
          "metadata": {},
          "execution_count": 17
        },
        {
          "output_type": "display_data",
          "data": {
            "text/plain": [
              "<Figure size 640x480 with 1 Axes>"
            ],
            "image/png": "[encoded data removed]"
          },
          "metadata": {}
        }
      ]
    },
    {
      "cell_type": "code",
      "source": [
        "df[\"price_usd\"].to_numpy()"
      ],
      "metadata": {
        "colab": {
          "base_uri": "https://localhost:8080/"
        },
        "id": "S2i9fV4bFMWQ",
        "outputId": "90c1d9c8-458d-4f6f-eb87-6a9219c2c4ec"
      },
      "execution_count": null,
      "outputs": [
        {
          "output_type": "execute_result",
          "data": {
            "text/plain": [
              "array([10900.,  5000.,  2800., ...,  4300.,  4000.,  3200.])"
            ]
          },
          "metadata": {},
          "execution_count": 18
        }
      ]
    },
    {
      "cell_type": "code",
      "source": [
        "sns.boxplot(data=df,x='engine_fuel',y='price_usd')"
      ],
      "metadata": {
        "colab": {
          "base_uri": "https://localhost:8080/",
          "height": 467
        },
        "id": "qHFHUVGqFilx",
        "outputId": "fb6049c0-580f-4a83-b84c-fccfa4ca1d60"
      },
      "execution_count": null,
      "outputs": [
        {
          "output_type": "execute_result",
          "data": {
            "text/plain": [
              "<Axes: xlabel='engine_fuel', ylabel='price_usd'>"
            ]
          },
          "metadata": {},
          "execution_count": 22
        },
        {
          "output_type": "display_data",
          "data": {
            "text/plain": [
              "<Figure size 640x480 with 1 Axes>"
            ],
            "image/png": "[encoded data removed]"
          },
          "metadata": {}
        }
      ]
    },
    {
      "cell_type": "code",
      "source": [
        "df[(df['engine_fuel'] == 'electric')].max()"
      ],
      "metadata": {
        "colab": {
          "base_uri": "https://localhost:8080/"
        },
        "id": "aJkewa6QFz7y",
        "outputId": "c5e37049-000e-49ef-80b7-5bf109963cdf"
      },
      "execution_count": null,
      "outputs": [
        {
          "output_type": "execute_result",
          "data": {
            "text/plain": [
              "manufacturer_name          Nissan\n",
              "model_name                     i3\n",
              "transmission            automatic\n",
              "color                       white\n",
              "odometer_value             168000\n",
              "year_produced                2018\n",
              "engine_fuel              electric\n",
              "engine_has_gas              False\n",
              "engine_type              electric\n",
              "engine_capacity               NaN\n",
              "body_type                liftback\n",
              "has_warranty                False\n",
              "state                       owned\n",
              "drivetrain                   rear\n",
              "price_usd                 39999.0\n",
              "is_exchangeable              True\n",
              "location_region      Минская обл.\n",
              "number_of_photos               23\n",
              "up_counter                     57\n",
              "feature_0                   False\n",
              "feature_1                    True\n",
              "feature_2                    True\n",
              "feature_3                    True\n",
              "feature_4                    True\n",
              "feature_5                    True\n",
              "feature_6                    True\n",
              "feature_7                    True\n",
              "feature_8                    True\n",
              "feature_9                    True\n",
              "duration_listed               138\n",
              "dtype: object"
            ]
          },
          "metadata": {},
          "execution_count": 26
        }
      ]
    }
  ]
}